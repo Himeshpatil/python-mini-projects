{
 "cells": [
  {
   "cell_type": "code",
   "execution_count": 1,
   "id": "738ed459-7b0e-4551-8a12-7fed2681dabe",
   "metadata": {},
   "outputs": [
    {
     "name": "stdout",
     "output_type": "stream",
     "text": [
      "['H.P.', 'R.S.', 'V.K.', 'V.M.', 'K.P.']\n"
     ]
    }
   ],
   "source": [
    "names = [\"Himesh Patil\", \"Rohit Sharma\", \"Virat Kohli\", \"Vedika Makwana\", \"Kasturi Patil\"]\n",
    "initials= list(map(lambda n: '.'.join([part[0] for part in n.split()]) + '.', names))\n",
    "print(initials)"
   ]
  },
  {
   "cell_type": "code",
   "execution_count": null,
   "id": "72b415e8-5077-48eb-ae91-4ce56cf2fae6",
   "metadata": {},
   "outputs": [],
   "source": []
  }
 ],
 "metadata": {
  "kernelspec": {
   "display_name": "Python [conda env:base] *",
   "language": "python",
   "name": "conda-base-py"
  },
  "language_info": {
   "codemirror_mode": {
    "name": "ipython",
    "version": 3
   },
   "file_extension": ".py",
   "mimetype": "text/x-python",
   "name": "python",
   "nbconvert_exporter": "python",
   "pygments_lexer": "ipython3",
   "version": "3.13.5"
  }
 },
 "nbformat": 4,
 "nbformat_minor": 5
}
