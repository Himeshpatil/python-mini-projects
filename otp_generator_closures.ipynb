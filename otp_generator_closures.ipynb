{
 "cells": [
  {
   "cell_type": "markdown",
   "id": "3cd23470-3c5c-4742-89da-517ccb6b050e",
   "metadata": {},
   "source": [
    "# 🔐 OTP Generator using Closures\n",
    "\n",
    "This project uses Python closures to build dynamic OTP generators with custom prefixes and timestamps.\n",
    "\n",
    "---\n",
    "\n",
    "## 💡 Concepts Covered\n",
    "- Closures in Python\n",
    "- `random.randint()` for OTP logic\n",
    "- `datetime.now()` for real-time stamps\n",
    "- Reusable factory functions\n",
    "\n",
    "---\n",
    "\n",
    "## 🛠️ Sample Output Format\n",
    "BANK-398214720 Time:- 22:9:33\n",
    "TXN-248917 Time:- 22:11:31\n",
    "\n",
    "\n",
    "\n",
    "# 📁 Use-Cases\n",
    "- Secure login systems\n",
    "- Transaction verification\n",
    "- Banking alerts\n"
   ]
  },
  {
   "cell_type": "code",
   "execution_count": 3,
   "id": "8e86db7c-a48f-4c4d-96b3-21e1b34f9e2e",
   "metadata": {},
   "outputs": [
    {
     "name": "stdout",
     "output_type": "stream",
     "text": [
      "BANK-624551234     Time:-  00:02:04\n",
      "BANK-749976146     Time:-  00:02:04\n",
      "BANK-637949671     Time:-  00:02:04\n",
      "TXN-789489     Time:-  00:02:04\n",
      "TXN-255649     Time:-  00:02:04\n",
      "TXN-449463     Time:-  00:02:04\n"
     ]
    }
   ],
   "source": [
    "import random\n",
    "import datetime\n",
    "def otpgen(prefix,length):\n",
    "    def gen():\n",
    "        otp= ''.join(str(random.randint(1,9)) for _ in range(length))\n",
    "        return prefix + otp + \"     Time:-  \" + datetime.datetime.now().strftime(\"%H:%M:%S\")\n",
    "    return gen\n",
    "bank=(otpgen(\"BANK-\",9))\n",
    "print(bank())\n",
    "print(bank())\n",
    "print(bank())\n",
    "\n",
    "txn=(otpgen(\"TXN-\",6))\n",
    "print(txn())\n",
    "print(txn())\n",
    "print(txn())"
   ]
  },
  {
   "cell_type": "code",
   "execution_count": null,
   "id": "fb29d44a-d36f-4547-bb3b-5d2d836ee85a",
   "metadata": {},
   "outputs": [],
   "source": []
  }
 ],
 "metadata": {
  "kernelspec": {
   "display_name": "Python [conda env:base] *",
   "language": "python",
   "name": "conda-base-py"
  },
  "language_info": {
   "codemirror_mode": {
    "name": "ipython",
    "version": 3
   },
   "file_extension": ".py",
   "mimetype": "text/x-python",
   "name": "python",
   "nbconvert_exporter": "python",
   "pygments_lexer": "ipython3",
   "version": "3.13.5"
  }
 },
 "nbformat": 4,
 "nbformat_minor": 5
}
